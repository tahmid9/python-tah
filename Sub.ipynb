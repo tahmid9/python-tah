{
  "nbformat": 4,
  "nbformat_minor": 0,
  "metadata": {
    "colab": {
      "provenance": [],
      "authorship_tag": "ABX9TyMsjh8nlb0AoR6ADh+82N70",
      "include_colab_link": true
    },
    "kernelspec": {
      "name": "python3",
      "display_name": "Python 3"
    },
    "language_info": {
      "name": "python"
    }
  },
  "cells": [
    {
      "cell_type": "markdown",
      "metadata": {
        "id": "view-in-github",
        "colab_type": "text"
      },
      "source": [
        "<a href=\"https://colab.research.google.com/github/tahmid9/python-tah/blob/main/Sub.ipynb\" target=\"_parent\"><img src=\"https://colab.research.google.com/assets/colab-badge.svg\" alt=\"Open In Colab\"/></a>"
      ]
    },
    {
      "cell_type": "code",
      "execution_count": 1,
      "metadata": {
        "id": "kADAfBA3SCAA"
      },
      "outputs": [],
      "source": [
        "A = 30\n",
        "B = 10\n",
        "C = A - B"
      ]
    },
    {
      "cell_type": "code",
      "source": [
        "print(\"Sub = \", C)"
      ],
      "metadata": {
        "colab": {
          "base_uri": "https://localhost:8080/"
        },
        "id": "CbKKvhSnSRz0",
        "outputId": "ee16d139-a4b1-4d09-a003-1dd144088155"
      },
      "execution_count": 2,
      "outputs": [
        {
          "output_type": "stream",
          "name": "stdout",
          "text": [
            "Sub =  20\n"
          ]
        }
      ]
    }
  ]
}